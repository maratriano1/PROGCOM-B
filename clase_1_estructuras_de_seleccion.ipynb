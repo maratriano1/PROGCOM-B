{
  "nbformat": 4,
  "nbformat_minor": 0,
  "metadata": {
    "colab": {
      "provenance": []
    },
    "kernelspec": {
      "name": "python3",
      "display_name": "Python 3"
    },
    "language_info": {
      "name": "python"
    }
  },
  "cells": [
    {
      "cell_type": "markdown",
      "source": [
        "##estructuras de seleccion\n",
        "se emplean cuando quiero evaluar una condicion. el resultado de la evaluacion de esta condicion siempre se da en booleano( V o F)\n"
      ],
      "metadata": {
        "id": "fbdWx-Q-MEzh"
      }
    },
    {
      "cell_type": "markdown",
      "source": [
        "## estructura if-else\n",
        "\n",
        "\n",
        "```\n",
        "if (condition):\n",
        "  entro aqui, si la condicion dio V\n",
        "else:\n",
        "  entro aqui, si la condicion= F  \n",
        "\n",
        "```\n",
        "\n"
      ],
      "metadata": {
        "id": "2FOvDwrrMiD3"
      }
    },
    {
      "cell_type": "markdown",
      "source": [
        "1. numero positivo"
      ],
      "metadata": {
        "id": "3o-gN9VITNEz"
      }
    },
    {
      "cell_type": "code",
      "source": [
        "num=float(input(\"ingresa numero:\"))\n",
        "if num>0 :\n",
        "  print(\"es positivo\")\n",
        "else:\n",
        "  print(\"no es positivo\")"
      ],
      "metadata": {
        "colab": {
          "base_uri": "https://localhost:8080/"
        },
        "id": "3m5sgA-UTMQM",
        "outputId": "6196443d-9859-4d50-f688-a96b6490ef48"
      },
      "execution_count": null,
      "outputs": [
        {
          "output_type": "stream",
          "name": "stdout",
          "text": [
            "ingresa numero:1\n",
            "es positivo\n"
          ]
        }
      ]
    },
    {
      "cell_type": "markdown",
      "source": [
        "2. mayor de edad"
      ],
      "metadata": {
        "id": "zmxHIZ2fT_zi"
      }
    },
    {
      "cell_type": "code",
      "source": [
        "edad=int(input(\"ingrese la edad:\"))\n",
        "if edad>=18:\n",
        "  print(\"es un mayor de edad\")\n",
        "else:\n",
        "  print(\"no es mayor de edad\")"
      ],
      "metadata": {
        "id": "xE0hB04LUF0q"
      },
      "execution_count": null,
      "outputs": []
    },
    {
      "cell_type": "markdown",
      "source": [
        "3. numero mayor\n"
      ],
      "metadata": {
        "id": "gM6KxD1lUibB"
      }
    },
    {
      "cell_type": "code",
      "source": [
        "a = float(input(\"Ingresa  primer número: \"))\n",
        "b = float(input(\"Ingresa  segundo número: \"))\n",
        "if a > b:\n",
        "    print(\"El mayor es:\", a)\n",
        "else:\n",
        "    print(\"El mayor es:\", b)"
      ],
      "metadata": {
        "id": "t_rXqh2zVQ0g"
      },
      "execution_count": null,
      "outputs": []
    },
    {
      "cell_type": "markdown",
      "source": [
        "4. calificacion\n"
      ],
      "metadata": {
        "id": "mwi17QLxVRpP"
      }
    },
    {
      "cell_type": "code",
      "source": [
        "calificacion = float(input(\"Ingresa  calificación: \"))\n",
        "if calificacion >= 60:\n",
        "    print(\"Aprobado\")\n",
        "else:\n",
        "    print(\"Reprobado\")"
      ],
      "metadata": {
        "id": "IkCoh9xeVVKo"
      },
      "execution_count": null,
      "outputs": []
    },
    {
      "cell_type": "markdown",
      "source": [
        "5. par e impar"
      ],
      "metadata": {
        "id": "dSil8BlAVVwg"
      }
    },
    {
      "cell_type": "code",
      "source": [
        "n = int(input(\"Ingresa  número entero: \"))\n",
        "if n % 2 == 0:\n",
        "    print(\"Es par\")\n",
        "else:\n",
        "    print(\"Es impar\")\n"
      ],
      "metadata": {
        "id": "khIqXF0pVYm3"
      },
      "execution_count": null,
      "outputs": []
    },
    {
      "cell_type": "markdown",
      "source": [
        "6. tres numeros y mayor"
      ],
      "metadata": {
        "id": "IV6AZPYaVZA3"
      }
    },
    {
      "cell_type": "code",
      "source": [
        "x = float(input(\"Ingresa  primer número: \"))\n",
        "y = float(input(\"Ingresa  segundo número: \"))\n",
        "z = float(input(\"Ingresa  tercer número: \"))\n",
        "mayor = x\n",
        "if y > mayor:\n",
        "    mayor = y\n",
        "if z > mayor:\n",
        "    mayor = z\n",
        "print(\"El mayor es:\", mayor)"
      ],
      "metadata": {
        "id": "Tw9RmXCiVcv3"
      },
      "execution_count": null,
      "outputs": []
    },
    {
      "cell_type": "markdown",
      "source": [
        "7. Año bisiesto\n"
      ],
      "metadata": {
        "id": "fWkZ2ymAND9-"
      }
    },
    {
      "cell_type": "code",
      "execution_count": null,
      "metadata": {
        "collapsed": true,
        "id": "9mKHceI_Ljpj",
        "colab": {
          "base_uri": "https://localhost:8080/"
        },
        "outputId": "191b8818-87ec-4e72-cad8-323d69f929b9"
      },
      "outputs": [
        {
          "output_type": "stream",
          "name": "stdout",
          "text": [
            "introduzca un año:2022\n",
            "2022 no es  un año bisiesto\n"
          ]
        }
      ],
      "source": [
        "#1. es divisible entre 4\n",
        "#2. es divisible entre 400 pero no entre 100\n",
        "año=int(input(\"introduzca un año:\"))\n",
        "if (año%4==0 and año%100!=0):\n",
        "  print(f\"{año} es un año bisiesto\")\n",
        "else:\n",
        "  if(año%400==0):\n",
        "    print(f\"{año} es un año bisiesto\")\n",
        "  else:\n",
        "    print(f\"{año} no es  un año bisiesto\")"
      ]
    },
    {
      "cell_type": "markdown",
      "source": [
        "8. contraseña reglas"
      ],
      "metadata": {
        "id": "cVwyc2WTVd_v"
      }
    },
    {
      "cell_type": "code",
      "source": [
        "contraseña = input(\"Ingresa su contraseña: \")\n",
        "\n",
        "tiene_numero = False\n",
        "tiene_mayuscula = False\n",
        "\n",
        "for caracter in contraseña:\n",
        "    if '0' <= caracter <= '9':\n",
        "        tiene_numero = True\n",
        "    if 'A' <= caracter <= 'Z':\n",
        "        tiene_mayuscula = True\n",
        "\n",
        "if len(contraseña) > 8 and tiene_numero and tiene_mayuscula:\n",
        "    print(\"Contraseña válida\")\n",
        "else:\n",
        "    print(\"Contraseña inválida\")"
      ],
      "metadata": {
        "id": "N3ienL-MViQQ",
        "colab": {
          "base_uri": "https://localhost:8080/"
        },
        "outputId": "324a3df3-ecf0-4367-880d-9a45acf5ad99"
      },
      "execution_count": null,
      "outputs": [
        {
          "output_type": "stream",
          "name": "stdout",
          "text": [
            "Ingresa una contraseña: marat\n",
            "Contraseña inválida\n"
          ]
        }
      ]
    },
    {
      "cell_type": "markdown",
      "source": [
        "9. fizzbuzz"
      ],
      "metadata": {
        "id": "Hmv4rpKQVivH"
      }
    },
    {
      "cell_type": "code",
      "source": [
        "numero = int(input(\"Ingresa  número: \"))\n",
        "if numero % 3 == 0 and numero % 5 == 0:\n",
        "    print(\"FizzBuzz\")\n",
        "else:\n",
        "    if numero % 3 == 0:\n",
        "        print(\"Fizz\")\n",
        "    else:\n",
        "        if numero % 5 == 0:\n",
        "            print(\"Buzz\")\n",
        "        else:\n",
        "            print(numero)"
      ],
      "metadata": {
        "id": "vVMtGdDeVvc5"
      },
      "execution_count": null,
      "outputs": []
    },
    {
      "cell_type": "markdown",
      "source": [
        "10. cajero automatico"
      ],
      "metadata": {
        "id": "G0JhTh08VvtH"
      }
    },
    {
      "cell_type": "code",
      "source": [
        "saldo = 1000\n",
        "retiro = float(input(\"cantidad a retirar: \"))\n",
        "if retiro <= saldo:\n",
        "    print(\"Operación exitosa. Nuevo saldo:\", saldo - retiro)\n",
        "else:\n",
        "    print(\"Fondos insuficientes\")"
      ],
      "metadata": {
        "id": "yJvaJoJuVzRm"
      },
      "execution_count": null,
      "outputs": []
    },
    {
      "cell_type": "markdown",
      "source": [
        "##estructura if-elif-else\n",
        "se emplea cuando hay mas de una decision\n",
        "\n",
        "```\n",
        "if((cond1):\n",
        " si cond1 es verdadero,entro aqui\n",
        "elif(cond2):\n",
        " si cond1 es falso , pero cond2 es verdadero entro aqui\n",
        "elif(cond3):\n",
        " si cond1 y cond 2 son falso, pero cond3 es verdadero entro aqui\n",
        "else: si cond1 y cond2 y cond3 y cond n son falsas, entrara aqui  \n",
        "\n",
        "```\n",
        "\n"
      ],
      "metadata": {
        "id": "2_cFjw7sPemh"
      }
    },
    {
      "cell_type": "markdown",
      "source": [
        "1. numero positivo"
      ],
      "metadata": {
        "id": "--KaGW-Ya2z_"
      }
    },
    {
      "cell_type": "code",
      "source": [
        "num = float(input(\"Ingresa  número: \"))\n",
        "if num > 0:\n",
        "    print(\"Es positivo\")\n",
        "elif num == 0:\n",
        "    print(\"Es cero\")\n",
        "else:\n",
        "    print(\"Es negativo\")"
      ],
      "metadata": {
        "id": "Ji0ewCAaa9pf"
      },
      "execution_count": null,
      "outputs": []
    },
    {
      "cell_type": "markdown",
      "source": [
        "2. mayor de edad"
      ],
      "metadata": {
        "id": "3uy4eBPra-Au"
      }
    },
    {
      "cell_type": "code",
      "source": [
        "edad = int(input(\"Ingresa tu edad: \"))\n",
        "if edad >= 18:\n",
        "    print(\"Es un mayor de edad\")\n",
        "elif edad >= 0:\n",
        "    print(\"Es un menor de edad\")\n",
        "else:\n",
        "    print(\"Edad no válida\")"
      ],
      "metadata": {
        "id": "RR9CvyqjbFAG"
      },
      "execution_count": null,
      "outputs": []
    },
    {
      "cell_type": "markdown",
      "source": [
        "3. numero mayor"
      ],
      "metadata": {
        "id": "vMjA7fbQbFZF"
      }
    },
    {
      "cell_type": "code",
      "source": [
        "a = float(input(\"Ingresa  primer número: \"))\n",
        "b = float(input(\"Ingresa  segundo número: \"))\n",
        "if a > b:\n",
        "    print(\"El mayor es:\", a)\n",
        "elif b > a:\n",
        "    print(\"El mayor es:\", b)\n",
        "else:\n",
        "    print(\"Son iguales\")"
      ],
      "metadata": {
        "id": "OogtYFZMbJP2"
      },
      "execution_count": null,
      "outputs": []
    },
    {
      "cell_type": "markdown",
      "source": [
        "4. calificacion"
      ],
      "metadata": {
        "id": "SWMOOpd7bJwf"
      }
    },
    {
      "cell_type": "code",
      "source": [
        "calificacion = float(input(\"Ingresa calificación: \"))\n",
        "if calificacion >= 60 and calificacion <= 100:\n",
        "    print(\"Aprobado\")\n",
        "elif calificacion < 60 and calificacion >= 0:\n",
        "    print(\"Reprobado\")\n",
        "else:\n",
        "    print(\"Calificación no válida\")"
      ],
      "metadata": {
        "id": "HRgqTXusbPKV"
      },
      "execution_count": null,
      "outputs": []
    },
    {
      "cell_type": "markdown",
      "source": [
        "5. par e impar"
      ],
      "metadata": {
        "id": "TU0_zZc1bPde"
      }
    },
    {
      "cell_type": "code",
      "source": [
        "n = int(input(\"Ingresa  número entero: \"))\n",
        "if n % 2 == 0:\n",
        "    print(\"Es par\")\n",
        "elif n % 2 != 0:\n",
        "    print(\"Es impar\")\n",
        "else:\n",
        "    print(\"Entrada no válida\")"
      ],
      "metadata": {
        "id": "zEqlXKEEbQrW"
      },
      "execution_count": null,
      "outputs": []
    },
    {
      "cell_type": "markdown",
      "source": [
        "6. tres numeros y mayor"
      ],
      "metadata": {
        "id": "Vono6Hm0bQ_N"
      }
    },
    {
      "cell_type": "code",
      "source": [
        "x = float(input(\"Ingresa  primer número: \"))\n",
        "y = float(input(\"Ingresa  segundo número: \"))\n",
        "z = float(input(\"Ingresa  tercer número: \"))\n",
        "if x >= y and x >= z:\n",
        "    print(\"El mayor es:\", x)\n",
        "elif y >= x and y >= z:\n",
        "    print(\"El mayor es:\", y)\n",
        "else:\n",
        "    print(\"El mayor es:\", z)"
      ],
      "metadata": {
        "id": "NgokKJNFbUTF"
      },
      "execution_count": null,
      "outputs": []
    },
    {
      "cell_type": "markdown",
      "source": [
        "7. año bisiesto"
      ],
      "metadata": {
        "id": "wYiYZE8UbUoN"
      }
    },
    {
      "cell_type": "code",
      "source": [
        "if (año%4==0 and año%100!=0):print(f\"{año} es un año bisiesto\")\n",
        "elif(año%400==0):print(f\"{año} es un año bisiesto\")\n",
        "else:print(f\"{año} no es  un año bisiesto\")"
      ],
      "metadata": {
        "id": "95mIKDoPQm0w"
      },
      "execution_count": null,
      "outputs": []
    },
    {
      "cell_type": "markdown",
      "source": [
        "8. contraseña"
      ],
      "metadata": {
        "id": "QLQYcGovbX9V"
      }
    },
    {
      "cell_type": "code",
      "source": [
        "contraseña = input(\"Ingresa su contraseña: \")\n",
        "tiene_numero = False\n",
        "tiene_mayuscula = False\n",
        "\n",
        "for caracter in contraseña:\n",
        "    if '0' <= caracter <= '9':\n",
        "        tiene_numero = True\n",
        "    elif 'A' <= caracter <= 'Z':\n",
        "        tiene_mayuscula = True\n",
        "\n",
        "if len(contraseña) > 8 and tiene_numero and tiene_mayuscula:\n",
        "    print(\"Contraseña válida\")\n",
        "elif len(contraseña) <= 8:\n",
        "    print(\"Contraseña inválida: demasiado corta\")\n",
        "else:\n",
        "    print(\"Contraseña inválida: falta número o mayúscula\")"
      ],
      "metadata": {
        "id": "DKN3Y0NsbbE9"
      },
      "execution_count": null,
      "outputs": []
    },
    {
      "cell_type": "markdown",
      "source": [
        "9. fizzbuzz"
      ],
      "metadata": {
        "id": "ZiqLITc9bbW9"
      }
    },
    {
      "cell_type": "code",
      "source": [
        "numero = int(input(\"Ingresa número: \"))\n",
        "if numero % 3 == 0 and numero % 5 == 0:\n",
        "    print(\"FizzBuzz\")\n",
        "elif numero % 3 == 0:\n",
        "    print(\"Fizz\")\n",
        "elif numero % 5 == 0:\n",
        "    print(\"Buzz\")\n",
        "else:\n",
        "    print(numero)"
      ],
      "metadata": {
        "id": "xJLS6lwObhAl"
      },
      "execution_count": null,
      "outputs": []
    },
    {
      "cell_type": "markdown",
      "source": [
        "10. cajero automatico"
      ],
      "metadata": {
        "id": "KMf2O2C9bjvN"
      }
    },
    {
      "cell_type": "code",
      "source": [
        "saldo = 1000\n",
        "retiro = float(input(\"cantidad a retirar: \"))\n",
        "if retiro <= saldo and retiro > 0:\n",
        "    print(\"Operación exitosa. Nuevo saldo:\", saldo - retiro)\n",
        "elif retiro <= 0:\n",
        "    print(\"Monto inválido\")\n",
        "else:\n",
        "    print(\"Fondos insuficientes\")"
      ],
      "metadata": {
        "id": "x2IirlHmbnFF"
      },
      "execution_count": null,
      "outputs": []
    },
    {
      "cell_type": "markdown",
      "source": [
        "##operador terniario\n",
        "programar una estructura de seleccion en una sola linea de codigo\n",
        "\n",
        "```\n",
        "(lo que se debe ejecutar, si la condicion es verdadera) if (condicion) else (lo que se debe ejecutar,si la condicion es falsa)\n",
        "```\n",
        "\n"
      ],
      "metadata": {
        "id": "WVOtMH-1RGFX"
      }
    },
    {
      "cell_type": "markdown",
      "source": [
        "1. numero positivo"
      ],
      "metadata": {
        "id": "rWEpXoWKcNA0"
      }
    },
    {
      "cell_type": "code",
      "source": [
        "num = float(input(\"Ingresa un número: \"))\n",
        "print(\"Es positivo\" if num > 0 else \"No es positivo\")"
      ],
      "metadata": {
        "id": "bEqxmvghcO_U"
      },
      "execution_count": null,
      "outputs": []
    },
    {
      "cell_type": "markdown",
      "source": [
        "2. mayor de edad"
      ],
      "metadata": {
        "id": "fy3kKWY-cP07"
      }
    },
    {
      "cell_type": "code",
      "source": [],
      "metadata": {
        "id": "eLd_I8FQcQ18"
      },
      "execution_count": null,
      "outputs": []
    },
    {
      "cell_type": "markdown",
      "source": [
        "3. numero mayor"
      ],
      "metadata": {
        "id": "Oj1oaV3HcRI9"
      }
    },
    {
      "cell_type": "code",
      "source": [],
      "metadata": {
        "id": "wgwOEl-lcSt0"
      },
      "execution_count": null,
      "outputs": []
    },
    {
      "cell_type": "markdown",
      "source": [
        "4. calificacion"
      ],
      "metadata": {
        "id": "x7ZBNw2FcTEE"
      }
    },
    {
      "cell_type": "code",
      "source": [],
      "metadata": {
        "id": "lnevmZkHcUTM"
      },
      "execution_count": null,
      "outputs": []
    },
    {
      "cell_type": "markdown",
      "source": [
        "5. par e impar"
      ],
      "metadata": {
        "id": "7wpFUz3UcUpc"
      }
    },
    {
      "cell_type": "code",
      "source": [],
      "metadata": {
        "id": "4jjSJh6OcVt0"
      },
      "execution_count": null,
      "outputs": []
    },
    {
      "cell_type": "markdown",
      "source": [
        "6. tres numeros y mayor"
      ],
      "metadata": {
        "id": "lbvPNIcgcV-E"
      }
    },
    {
      "cell_type": "code",
      "source": [],
      "metadata": {
        "id": "bNOF6DvncXID"
      },
      "execution_count": null,
      "outputs": []
    },
    {
      "cell_type": "markdown",
      "source": [
        "7. año bisiesto"
      ],
      "metadata": {
        "id": "bVGVN3kXbvIF"
      }
    },
    {
      "cell_type": "code",
      "source": [
        "print(f\"{año} es un año bisiesto\") if (año%4==0 and año%100!=0)else(print(f\"{año} es un año bisiesto\"))if(año%400==0)else(print(f\"{año} no es  un año bisiesto\"))\n"
      ],
      "metadata": {
        "id": "q8vntbh5WRQe",
        "colab": {
          "base_uri": "https://localhost:8080/"
        },
        "outputId": "32678ae3-436c-4909-a693-8764bcb90257"
      },
      "execution_count": null,
      "outputs": [
        {
          "output_type": "stream",
          "name": "stdout",
          "text": [
            "2022 no es  un año bisiesto\n"
          ]
        }
      ]
    },
    {
      "cell_type": "markdown",
      "source": [
        "8. contraseña"
      ],
      "metadata": {
        "id": "_vEiWjNxcYEz"
      }
    },
    {
      "cell_type": "code",
      "source": [],
      "metadata": {
        "id": "tsCVYCcXcZMr"
      },
      "execution_count": null,
      "outputs": []
    },
    {
      "cell_type": "markdown",
      "source": [
        "9. fizzbuzz"
      ],
      "metadata": {
        "id": "z_K5EVMScZaM"
      }
    },
    {
      "cell_type": "code",
      "source": [],
      "metadata": {
        "id": "IP9-1KYxcaZL"
      },
      "execution_count": null,
      "outputs": []
    },
    {
      "cell_type": "markdown",
      "source": [
        "10. cajero automatico"
      ],
      "metadata": {
        "id": "opf8woiycbqb"
      }
    },
    {
      "cell_type": "code",
      "source": [],
      "metadata": {
        "id": "HmbaYYj8ccjr"
      },
      "execution_count": null,
      "outputs": []
    }
  ]
}